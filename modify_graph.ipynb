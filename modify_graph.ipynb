{
 "cells": [
  {
   "cell_type": "code",
   "execution_count": 3,
   "outputs": [],
   "source": [
    "import pydot\n",
    "import networkx as nx\n",
    "from networkx.drawing.nx_pydot import read_dot\n",
    "from collections import defaultdict\n",
    "import regex\n",
    "\n",
    "def sanitize_dot(dot_string):\n",
    "    return regex.sub(r'(?<!\"):(?!\")', '_', dot_string)\n",
    "\n",
    "def merge_same_name_nodes(input_file, output_file):\n",
    "\n",
    "    # Use this function when reading your dot file\n",
    "    with open(input_file, 'r') as f:\n",
    "        dot_string = f.read()\n",
    "\n",
    "    dot_string = sanitize_dot(dot_string)\n",
    "\n",
    "    # Write cleaned dot string to a temporary file\n",
    "    with open('temp.dot', 'w') as f:\n",
    "        f.write(dot_string)\n",
    "\n",
    "    # Load the dot file\n",
    "    G = nx.nx_pydot.read_dot('temp.dot')\n",
    "\n",
    "    # Create a dictionary to keep track of nodes at each level\n",
    "    level_dict = defaultdict(list)\n",
    "\n",
    "    # Iterate through all nodes in the graph\n",
    "    for node in G.nodes():\n",
    "        # Calculate the level of the node as the shortest path from the root (assumed to be node with name \"root\")\n",
    "        level = nx.shortest_path_length(G, source=node, target=list(G.nodes)[0])\n",
    "\n",
    "        # Add the node to the appropriate level in the dictionary\n",
    "        if level > 1:\n",
    "            level_dict[level].append(node)\n",
    "\n",
    "    # Iterate through all levels in the dictionary\n",
    "    for level in level_dict:\n",
    "        # Create a dictionary to keep track of node names at this level\n",
    "        node_name_dict = defaultdict(list)\n",
    "\n",
    "        # Iterate through all nodes at this level\n",
    "        for node in level_dict[level]:\n",
    "            # Add the node to the appropriate name in the dictionary\n",
    "            node_name_dict[node.split('|')[0]].append(node)\n",
    "\n",
    "        # Iterate through all node names in the dictionary\n",
    "        for node_name in node_name_dict:\n",
    "            # If there are multiple nodes with this name at this level\n",
    "            if len(node_name_dict[node_name]) > 1:\n",
    "                # Choose one node to keep and the others to merge\n",
    "                keep_node = node_name_dict[node_name][0]\n",
    "                merge_nodes = node_name_dict[node_name][1:]\n",
    "\n",
    "                # Iterate through all nodes to merge\n",
    "                for merge_node in merge_nodes:\n",
    "                    # Iterate through all edges of the node to merge\n",
    "                    for u, v, key, data in list(G.in_edges(merge_node, data=True, keys=True)):\n",
    "                        # This edge is incoming, so add a corresponding edge to the keep node\n",
    "                        G.add_edge(u, keep_node, **data)\n",
    "\n",
    "                    for u, v, key, data in list(G.out_edges(merge_node, data=True, keys=True)):\n",
    "                        # This edge is outgoing, so add a corresponding edge from the keep node\n",
    "                        G.add_edge(keep_node, v, **data)\n",
    "\n",
    "                    # Finally, remove the merge node\n",
    "                    G.remove_node(merge_node)\n",
    "    for node in G.nodes():\n",
    "        G = nx.relabel_nodes(G, {node: node.replace(':', '_')})\n",
    "    for node in G.nodes(data=True):\n",
    "        if 'style' in node[1]:\n",
    "            if node[1]['style'] == '\"dotted\"':\n",
    "                del node[1]['style']\n",
    "                if 'fillcolor' in node[1]:\n",
    "                    node[1]['style'] = 'filled'\n",
    "    #print(G.nodes(data=True))\n",
    "    # Save the merged graph\n",
    "    nx.nx_pydot.write_dot(G, output_file)\n",
    "\n",
    "# Call the function with your input and output file names\n",
    "merge_same_name_nodes(\"C:/Users/alexd/PycharmProjects/SAGE/baseline-2017AGs/baseline-2017.txt-attack-graph-for-victim-10.0.0.224-NETWORKDOSmswbtserver.dot\", \"C:/Users/alexd/PycharmProjects/SAGE/try1.dot\")\n"
   ],
   "metadata": {
    "collapsed": false
   }
  },
  {
   "cell_type": "code",
   "execution_count": 4,
   "outputs": [],
   "source": [
    "import os\n",
    "# Call the function for a folder with dot files\n",
    "spdfa_attack_graphs = [file for file in os.listdir(\"C:/Users/alexd/PycharmProjects/SAGE/baseline-2018AGs\") if file.endswith('.dot')]\n",
    "for file in spdfa_attack_graphs:\n",
    "    merge_same_name_nodes(\"C:/Users/alexd/PycharmProjects/SAGE/baseline-2018AGs/\" + file, \"C:/Users/alexd/PycharmProjects/SAGE/bobeala2/\" + file)"
   ],
   "metadata": {
    "collapsed": false
   }
  },
  {
   "cell_type": "code",
   "execution_count": 4,
   "outputs": [],
   "source": [],
   "metadata": {
    "collapsed": false
   }
  }
 ],
 "metadata": {
  "kernelspec": {
   "display_name": "Python 3",
   "language": "python",
   "name": "python3"
  },
  "language_info": {
   "codemirror_mode": {
    "name": "ipython",
    "version": 2
   },
   "file_extension": ".py",
   "mimetype": "text/x-python",
   "name": "python",
   "nbconvert_exporter": "python",
   "pygments_lexer": "ipython2",
   "version": "2.7.6"
  }
 },
 "nbformat": 4,
 "nbformat_minor": 0
}
