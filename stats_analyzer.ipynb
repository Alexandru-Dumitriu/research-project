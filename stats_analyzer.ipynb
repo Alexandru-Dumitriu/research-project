{
 "cells": [
  {
   "cell_type": "code",
   "execution_count": 1,
   "metadata": {
    "collapsed": true
   },
   "outputs": [],
   "source": [
    "import networkx as nx\n",
    "import matplotlib.pyplot as plt\n",
    "import os\n",
    "import pandas as pd\n",
    "import numpy as np"
   ]
  },
  {
   "cell_type": "markdown",
   "source": [],
   "metadata": {
    "collapsed": false
   }
  },
  {
   "cell_type": "code",
   "execution_count": 2,
   "outputs": [],
   "source": [
    "def match_attack_graphs(file_location_spdfa, file_location_sinks):\n",
    "    \"\"\"\n",
    "    Match attack graphs from two directories based on their names.\n",
    "\n",
    "    Args:\n",
    "        file_location_spdfa (str): Path to the directory containing SPDFA attack graphs in DOT format.\n",
    "        file_location_sinks (str): Path to the directory containing sinks attack graphs in DOT format.\n",
    "\n",
    "    Returns:\n",
    "        list: A list containing two sublists: matched_attack_graphs and unmatched_attack_graphs.\n",
    "\n",
    "    \"\"\"\n",
    "    # Retrieve the SPDFA attack graphs from the specified directory\n",
    "    spdfa_attack_graphs = [(file[35:], nx.nx_pydot.read_dot(file_location_spdfa + \"/\" + file)) for file in os.listdir(file_location_spdfa) if file.endswith('.dot')]\n",
    "\n",
    "    # Retrieve the sinks attack graphs from the specified directory\n",
    "    sinks_attack_graphs = [(file[35:], nx.nx_pydot.read_dot(file_location_sinks + \"/\" + file)) for file in os.listdir(file_location_sinks) if file.endswith('.dot')]\n",
    "\n",
    "    # Remove the last node from each sinks attack graph (only for proposed graphs)\n",
    "    for x in sinks_attack_graphs:\n",
    "        x[1].remove_node(list(x[1].nodes())[-1])\n",
    "\n",
    "    # Initialize lists to store matched and unmatched attack graphs\n",
    "    matched_attack_graphs = []\n",
    "    unmatched_attack_graphs = []\n",
    "\n",
    "    # Match SPDFA attack graphs with corresponding sinks attack graphs\n",
    "    for (name_spdfa, spdfa) in spdfa_attack_graphs:\n",
    "        is_unmatched = True\n",
    "        for (name_sinks, sinks) in sinks_attack_graphs:\n",
    "            if name_sinks == name_spdfa:\n",
    "                matched_attack_graphs.append((name_sinks, spdfa, sinks))\n",
    "                is_unmatched = False\n",
    "        if is_unmatched:\n",
    "            unmatched_attack_graphs.append((name_spdfa, spdfa))\n",
    "\n",
    "    # Return the matched and unmatched attack graphs\n",
    "    return [matched_attack_graphs, unmatched_attack_graphs]\n"
   ],
   "metadata": {
    "collapsed": false
   }
  },
  {
   "cell_type": "code",
   "execution_count": 3,
   "outputs": [],
   "source": [
    "(matched_attack_graphs, unmatched_attack_graphs) = match_attack_graphs(\"C:/Users/alexd/PycharmProjects/SAGE/baseline-2018AGs\", \"C:/Users/alexd/PycharmProjects/SAGE/bobeala2\")"
   ],
   "metadata": {
    "collapsed": false
   }
  },
  {
   "cell_type": "code",
   "execution_count": 4,
   "outputs": [],
   "source": [
    "def simplicity(graph: nx.classes.multidigraph.MultiDiGraph) -> float:\n",
    "    \"\"\"\n",
    "    Calculate the simplicity of a directed graph.\n",
    "\n",
    "    The simplicity of a graph is defined as the ratio of the number of nodes\n",
    "    to the number of edges.\n",
    "\n",
    "    Args:\n",
    "        graph (nx.classes.multidigraph.MultiDiGraph): The multi-graph.\n",
    "\n",
    "    Returns:\n",
    "        float: The simplicity of the graph.\n",
    "\n",
    "    \"\"\"\n",
    "    return len(graph.nodes) / (len(graph.edges) * 1.0)"
   ],
   "metadata": {
    "collapsed": false
   }
  },
  {
   "cell_type": "code",
   "execution_count": 5,
   "outputs": [],
   "source": [
    "#Create dict with all size and complexity values and deltas\n",
    "complexity_values = [{\"name\": name, \"nodes_base\": len(spdfa.nodes), \"edges_base\": len(spdfa.edges), \"simplicity_base\": simplicity(spdfa), \"nodes_sinks\": len(sinks.nodes), \"edges_sinks\": len(sinks.edges), \"simplicity_sinks\": simplicity(sinks), \"simplicity_difference\": abs(simplicity(spdfa) - simplicity(sinks)), \"size_difference\": len(spdfa.nodes) - len(sinks.nodes)} for (name, spdfa, sinks)  in matched_attack_graphs]\n",
    "# Sort dict based on simplicity delta\n",
    "complexity_values.sort(key= lambda a: a[\"simplicity_difference\"], reverse=True)"
   ],
   "metadata": {
    "collapsed": false
   }
  },
  {
   "cell_type": "code",
   "execution_count": 6,
   "outputs": [],
   "source": [
    "# Template to save info in a log file if desired\n",
    "with open('complexity_results.txt', 'w') as f:\n",
    "    f.write(\"Name\" + \"\\t\\t\\t\" + \"S_Comp\" + \"\\t\\t\\t\" + \"S_Nodes\" + \"\\t\\t\\t\" + \"S_Edges\" + \"\\t\\t\\t\" + \"P_Comp\" + \"\\t\\t\\t\" + \"P_Nodes\" + \"\\t\\t\\t\" + \"P_Nodes\" + \"\\t\\t\\t\" + \"Diff_comp\" + \"\\n\")\n",
    "    for result in complexity_values:\n",
    "        f.write(result[\"name\"] + \"\\t\\t\\t\")\n",
    "        f.write(str(result[\"simplicity_base\"]) + \"\\t\\t\\t\")\n",
    "        f.write(str(result[\"nodes_base\"]) + \"\\t\\t\\t\")\n",
    "        f.write(str(result[\"edges_base\"]) + \"\\t\\t\\t\")\n",
    "        f.write(str(result[\"simplicity_sinks\"]) + \"\\t\\t\\t\")\n",
    "        f.write(str(result[\"nodes_sinks\"]) + \"\\t\\t\\t\")\n",
    "        f.write(str(result[\"edges_sinks\"]) + \"\\t\\t\\t\")\n",
    "        f.write(str(result[\"simplicity_difference\"]) + \"\\t\\t\\t\")\n",
    "        f.write(str(result[\"size_difference\"]) + \"\\n\")"
   ],
   "metadata": {
    "collapsed": false
   }
  },
  {
   "cell_type": "code",
   "execution_count": 7,
   "outputs": [
    {
     "data": {
      "text/plain": "                                           name  nodes_base  edges_base  \\\n0    victim-10.0.0.176-DATAMANIPULATIONhttp.dot          31          59   \n1  victim-10.0.0.24-RESOURCEHIJACKINGwapwsp.dot          24          40   \n2         victim-10.0.0.24-DATADELIVERYhttp.dot          18          30   \n3     victim-10.0.0.24-DATAMANIPULATIONhttp.dot          28          40   \n4   victim-10.0.1.46-RESOURCEHIJACKINGuscli.dot          34          53   \n5        victim-10.0.0.176-DATADELIVERYhttp.dot          32          64   \n6            victim-10.0.1.5-NETWORKDOShttp.dot          23          66   \n7    victim-10.0.0.22-RESOURCEHIJACKINGhttp.dot          22          66   \n8         victim-10.0.0.11-DATADELIVERYhttp.dot          22          69   \n9     victim-10.0.0.11-DATAEXFILTRATIONhttp.dot          22          42   \n\n   simplicity_base  nodes_sinks  edges_sinks  simplicity_sinks  \\\n0         0.525424           28           59          0.474576   \n1         0.600000           22           40          0.550000   \n2         0.600000           17           30          0.566667   \n3         0.700000           27           40          0.675000   \n4         0.641509           33           53          0.622642   \n5         0.500000           31           64          0.484375   \n6         0.348485           22           66          0.333333   \n7         0.333333           21           66          0.318182   \n8         0.318841           22           69          0.318841   \n9         0.523810           22           42          0.523810   \n\n   simplicity_difference  size_difference  \n0               0.050847                3  \n1               0.050000                2  \n2               0.033333                1  \n3               0.025000                1  \n4               0.018868                1  \n5               0.015625                1  \n6               0.015152                1  \n7               0.015152                1  \n8               0.000000                0  \n9               0.000000                0  ",
      "text/html": "<div>\n<style scoped>\n    .dataframe tbody tr th:only-of-type {\n        vertical-align: middle;\n    }\n\n    .dataframe tbody tr th {\n        vertical-align: top;\n    }\n\n    .dataframe thead th {\n        text-align: right;\n    }\n</style>\n<table border=\"1\" class=\"dataframe\">\n  <thead>\n    <tr style=\"text-align: right;\">\n      <th></th>\n      <th>name</th>\n      <th>nodes_base</th>\n      <th>edges_base</th>\n      <th>simplicity_base</th>\n      <th>nodes_sinks</th>\n      <th>edges_sinks</th>\n      <th>simplicity_sinks</th>\n      <th>simplicity_difference</th>\n      <th>size_difference</th>\n    </tr>\n  </thead>\n  <tbody>\n    <tr>\n      <th>0</th>\n      <td>victim-10.0.0.176-DATAMANIPULATIONhttp.dot</td>\n      <td>31</td>\n      <td>59</td>\n      <td>0.525424</td>\n      <td>28</td>\n      <td>59</td>\n      <td>0.474576</td>\n      <td>0.050847</td>\n      <td>3</td>\n    </tr>\n    <tr>\n      <th>1</th>\n      <td>victim-10.0.0.24-RESOURCEHIJACKINGwapwsp.dot</td>\n      <td>24</td>\n      <td>40</td>\n      <td>0.600000</td>\n      <td>22</td>\n      <td>40</td>\n      <td>0.550000</td>\n      <td>0.050000</td>\n      <td>2</td>\n    </tr>\n    <tr>\n      <th>2</th>\n      <td>victim-10.0.0.24-DATADELIVERYhttp.dot</td>\n      <td>18</td>\n      <td>30</td>\n      <td>0.600000</td>\n      <td>17</td>\n      <td>30</td>\n      <td>0.566667</td>\n      <td>0.033333</td>\n      <td>1</td>\n    </tr>\n    <tr>\n      <th>3</th>\n      <td>victim-10.0.0.24-DATAMANIPULATIONhttp.dot</td>\n      <td>28</td>\n      <td>40</td>\n      <td>0.700000</td>\n      <td>27</td>\n      <td>40</td>\n      <td>0.675000</td>\n      <td>0.025000</td>\n      <td>1</td>\n    </tr>\n    <tr>\n      <th>4</th>\n      <td>victim-10.0.1.46-RESOURCEHIJACKINGuscli.dot</td>\n      <td>34</td>\n      <td>53</td>\n      <td>0.641509</td>\n      <td>33</td>\n      <td>53</td>\n      <td>0.622642</td>\n      <td>0.018868</td>\n      <td>1</td>\n    </tr>\n    <tr>\n      <th>5</th>\n      <td>victim-10.0.0.176-DATADELIVERYhttp.dot</td>\n      <td>32</td>\n      <td>64</td>\n      <td>0.500000</td>\n      <td>31</td>\n      <td>64</td>\n      <td>0.484375</td>\n      <td>0.015625</td>\n      <td>1</td>\n    </tr>\n    <tr>\n      <th>6</th>\n      <td>victim-10.0.1.5-NETWORKDOShttp.dot</td>\n      <td>23</td>\n      <td>66</td>\n      <td>0.348485</td>\n      <td>22</td>\n      <td>66</td>\n      <td>0.333333</td>\n      <td>0.015152</td>\n      <td>1</td>\n    </tr>\n    <tr>\n      <th>7</th>\n      <td>victim-10.0.0.22-RESOURCEHIJACKINGhttp.dot</td>\n      <td>22</td>\n      <td>66</td>\n      <td>0.333333</td>\n      <td>21</td>\n      <td>66</td>\n      <td>0.318182</td>\n      <td>0.015152</td>\n      <td>1</td>\n    </tr>\n    <tr>\n      <th>8</th>\n      <td>victim-10.0.0.11-DATADELIVERYhttp.dot</td>\n      <td>22</td>\n      <td>69</td>\n      <td>0.318841</td>\n      <td>22</td>\n      <td>69</td>\n      <td>0.318841</td>\n      <td>0.000000</td>\n      <td>0</td>\n    </tr>\n    <tr>\n      <th>9</th>\n      <td>victim-10.0.0.11-DATAEXFILTRATIONhttp.dot</td>\n      <td>22</td>\n      <td>42</td>\n      <td>0.523810</td>\n      <td>22</td>\n      <td>42</td>\n      <td>0.523810</td>\n      <td>0.000000</td>\n      <td>0</td>\n    </tr>\n  </tbody>\n</table>\n</div>"
     },
     "execution_count": 7,
     "metadata": {},
     "output_type": "execute_result"
    }
   ],
   "source": [
    "result_df = pd.DataFrame(complexity_values)\n",
    "simplicity10 = result_df.head(10)\n",
    "# Top 10 simplicity deltas\n",
    "simplicity10"
   ],
   "metadata": {
    "collapsed": false
   }
  },
  {
   "cell_type": "code",
   "execution_count": 8,
   "outputs": [],
   "source": [
    "def estimate_coef(x, y):\n",
    "    \"\"\"\n",
    "    Estimate the coefficients of a simple linear regression model.\n",
    "\n",
    "    Given two arrays, x and y, representing observations, this function calculates\n",
    "    the coefficients of a simple linear regression model (y = b0 + b1 * x).\n",
    "\n",
    "    Args:\n",
    "        x (array-like): The independent variable array.\n",
    "        y (array-like): The dependent variable array.\n",
    "\n",
    "    Returns:\n",
    "        tuple: A tuple containing the regression coefficients (b0, b1).\n",
    "\n",
    "    \"\"\"\n",
    "    # number of observations/points\n",
    "    n = np.size(x)\n",
    "\n",
    "    # mean of x and y vector\n",
    "    m_x = np.mean(x)\n",
    "    m_y = np.mean(y)\n",
    "\n",
    "    # calculating cross-deviation and deviation about x\n",
    "    SS_xy = np.sum([xx * yy for xx, yy in zip(x, y)]) - n*m_y*m_x\n",
    "    SS_xx = np.sum([xx * yy for xx, yy in zip(x, x)]) - n*m_x*m_x\n",
    "\n",
    "    # calculating regression coefficients\n",
    "    b_1 = SS_xy / SS_xx\n",
    "    b_0 = m_y - b_1*m_x\n",
    "\n",
    "    return (b_0, b_1)"
   ],
   "metadata": {
    "collapsed": false
   }
  },
  {
   "cell_type": "code",
   "execution_count": 9,
   "outputs": [
    {
     "name": "stdout",
     "output_type": "stream",
     "text": [
      "12.25 22.0\n"
     ]
    }
   ],
   "source": [
    "# Compute lower and upper percentile based on node count\n",
    "l = sorted([ag[\"nodes_base\"] for ag in complexity_values] + [ag[\"nodes_sinks\"] for ag in complexity_values])\n",
    "lower = np.percentile(l,25)\n",
    "upper = np.percentile(l,75)\n",
    "print(lower, upper)"
   ],
   "metadata": {
    "collapsed": false
   }
  },
  {
   "cell_type": "code",
   "execution_count": 10,
   "outputs": [],
   "source": [
    "# Filter attack graphs based on complexity values\n",
    "complex_base = [ag for ag in complexity_values if ag[\"nodes_base\"] >= 22]\n",
    "complex_sinks = [ag for ag in complexity_values if ag[\"nodes_sinks\"] >= 22]\n",
    "\n",
    "simple_base = [ag for ag in complexity_values if ag[\"nodes_base\"] < 13]\n",
    "simple_sinks = [ag for ag in complexity_values if ag[\"nodes_sinks\"] < 13]\n",
    "\n",
    "middle_base = [ag for ag in complexity_values if 13 <= ag[\"nodes_base\"] < 22]\n",
    "middle_sinks = [ag for ag in complexity_values if 13 <= ag[\"nodes_sinks\"] < 22]\n",
    "\n",
    "# Estimate coefficients for simplicity regression\n",
    "(a, b) = estimate_coef([ag[\"nodes_base\"] for ag in middle_base] + [ag[\"nodes_sinks\"] for ag in middle_sinks],\n",
    "                       [ag[\"simplicity_base\"] for ag in middle_base] + [ag[\"simplicity_sinks\"] for ag in middle_sinks])\n",
    "\n",
    "# Classify attack graphs as complex or simple based on the regression line\n",
    "for ag in middle_base:\n",
    "    if a + ag[\"nodes_base\"] * b > ag[\"simplicity_base\"]:\n",
    "        complex_base.append(ag)\n",
    "    else:\n",
    "        simple_base.append(ag)\n",
    "\n",
    "for ag in middle_sinks:\n",
    "    if a + ag[\"nodes_sinks\"] * b > ag[\"simplicity_sinks\"]:\n",
    "        complex_sinks.append(ag)\n",
    "    else:\n",
    "        simple_sinks.append(ag)\n",
    "\n",
    "# Find changes from simple to complex and complex to simple\n",
    "changes_s_to_c = []\n",
    "for ag in simple_base:\n",
    "    if ag in complex_sinks:\n",
    "        changes_s_to_c.append(ag)\n",
    "\n",
    "changes_c_to_s = []\n",
    "for ag in complex_base:\n",
    "    if ag in simple_sinks:\n",
    "        changes_c_to_s.append(ag)\n"
   ],
   "metadata": {
    "collapsed": false
   }
  },
  {
   "cell_type": "code",
   "execution_count": 11,
   "outputs": [
    {
     "name": "stdout",
     "output_type": "stream",
     "text": [
      "41\n",
      "34\n",
      "42\n",
      "33\n"
     ]
    }
   ],
   "source": [
    "print(len(complex_base))\n",
    "print(len(simple_base))\n",
    "print(len(complex_sinks))\n",
    "print(len(simple_sinks))"
   ],
   "metadata": {
    "collapsed": false
   }
  },
  {
   "cell_type": "code",
   "execution_count": 12,
   "outputs": [
    {
     "data": {
      "text/plain": "[<matplotlib.lines.Line2D at 0x1b1ffa5b790>]"
     },
     "execution_count": 12,
     "metadata": {},
     "output_type": "execute_result"
    },
    {
     "data": {
      "text/plain": "<Figure size 640x480 with 1 Axes>",
      "image/png": "[encoded data removed]"
     },
     "metadata": {},
     "output_type": "display_data"
    }
   ],
   "source": [
    "# Plot the linear regression and all the points on which it is constructed\n",
    "plt.scatter(np.array([ag[\"nodes_base\"] for ag in middle_base]), np.array([ag[\"simplicity_base\"] for ag in middle_base]))\n",
    "plt.scatter(np.array([ag[\"nodes_sinks\"] for ag in middle_sinks]), np.array([ag[\"simplicity_sinks\"] for ag in middle_sinks]))\n",
    "axes = plt.gca()\n",
    "x_vals = np.array(axes.get_xlim())\n",
    "y_vals = a + b * (x_vals)\n",
    "plt.plot(x_vals, y_vals, '--')"
   ],
   "metadata": {
    "collapsed": false
   }
  },
  {
   "cell_type": "code",
   "execution_count": 13,
   "outputs": [
    {
     "data": {
      "text/plain": "                                    name  nodes_base  edges_base  \\\n0  victim-10.0.0.24-DATADELIVERYhttp.dot          18          30   \n\n   simplicity_base  nodes_sinks  edges_sinks  simplicity_sinks  \\\n0              0.6           17           30          0.566667   \n\n   simplicity_difference  size_difference  \n0               0.033333                1  ",
      "text/html": "<div>\n<style scoped>\n    .dataframe tbody tr th:only-of-type {\n        vertical-align: middle;\n    }\n\n    .dataframe tbody tr th {\n        vertical-align: top;\n    }\n\n    .dataframe thead th {\n        text-align: right;\n    }\n</style>\n<table border=\"1\" class=\"dataframe\">\n  <thead>\n    <tr style=\"text-align: right;\">\n      <th></th>\n      <th>name</th>\n      <th>nodes_base</th>\n      <th>edges_base</th>\n      <th>simplicity_base</th>\n      <th>nodes_sinks</th>\n      <th>edges_sinks</th>\n      <th>simplicity_sinks</th>\n      <th>simplicity_difference</th>\n      <th>size_difference</th>\n    </tr>\n  </thead>\n  <tbody>\n    <tr>\n      <th>0</th>\n      <td>victim-10.0.0.24-DATADELIVERYhttp.dot</td>\n      <td>18</td>\n      <td>30</td>\n      <td>0.6</td>\n      <td>17</td>\n      <td>30</td>\n      <td>0.566667</td>\n      <td>0.033333</td>\n      <td>1</td>\n    </tr>\n  </tbody>\n</table>\n</div>"
     },
     "execution_count": 13,
     "metadata": {},
     "output_type": "execute_result"
    }
   ],
   "source": [
    "s_to_c = pd.DataFrame(changes_s_to_c)\n",
    "s_to_c"
   ],
   "metadata": {
    "collapsed": false
   }
  },
  {
   "cell_type": "code",
   "execution_count": 14,
   "outputs": [
    {
     "data": {
      "text/plain": "Empty DataFrame\nColumns: []\nIndex: []",
      "text/html": "<div>\n<style scoped>\n    .dataframe tbody tr th:only-of-type {\n        vertical-align: middle;\n    }\n\n    .dataframe tbody tr th {\n        vertical-align: top;\n    }\n\n    .dataframe thead th {\n        text-align: right;\n    }\n</style>\n<table border=\"1\" class=\"dataframe\">\n  <thead>\n    <tr style=\"text-align: right;\">\n      <th></th>\n    </tr>\n  </thead>\n  <tbody>\n  </tbody>\n</table>\n</div>"
     },
     "execution_count": 14,
     "metadata": {},
     "output_type": "execute_result"
    }
   ],
   "source": [
    "c_to_s = pd.DataFrame(changes_c_to_s)\n",
    "c_to_s"
   ],
   "metadata": {
    "collapsed": false
   }
  },
  {
   "cell_type": "code",
   "execution_count": 15,
   "outputs": [
    {
     "data": {
      "text/plain": "                                           name  nodes_base  edges_base  \\\n0    victim-10.0.0.176-DATAMANIPULATIONhttp.dot          31          59   \n1  victim-10.0.0.24-RESOURCEHIJACKINGwapwsp.dot          24          40   \n2         victim-10.0.0.24-DATADELIVERYhttp.dot          18          30   \n3     victim-10.0.0.24-DATAMANIPULATIONhttp.dot          28          40   \n4   victim-10.0.1.46-RESOURCEHIJACKINGuscli.dot          34          53   \n\n   simplicity_base  nodes_sinks  edges_sinks  simplicity_sinks  \\\n0         0.525424           28           59          0.474576   \n1         0.600000           22           40          0.550000   \n2         0.600000           17           30          0.566667   \n3         0.700000           27           40          0.675000   \n4         0.641509           33           53          0.622642   \n\n   simplicity_difference  size_difference  \n0               0.050847                3  \n1               0.050000                2  \n2               0.033333                1  \n3               0.025000                1  \n4               0.018868                1  ",
      "text/html": "<div>\n<style scoped>\n    .dataframe tbody tr th:only-of-type {\n        vertical-align: middle;\n    }\n\n    .dataframe tbody tr th {\n        vertical-align: top;\n    }\n\n    .dataframe thead th {\n        text-align: right;\n    }\n</style>\n<table border=\"1\" class=\"dataframe\">\n  <thead>\n    <tr style=\"text-align: right;\">\n      <th></th>\n      <th>name</th>\n      <th>nodes_base</th>\n      <th>edges_base</th>\n      <th>simplicity_base</th>\n      <th>nodes_sinks</th>\n      <th>edges_sinks</th>\n      <th>simplicity_sinks</th>\n      <th>simplicity_difference</th>\n      <th>size_difference</th>\n    </tr>\n  </thead>\n  <tbody>\n    <tr>\n      <th>0</th>\n      <td>victim-10.0.0.176-DATAMANIPULATIONhttp.dot</td>\n      <td>31</td>\n      <td>59</td>\n      <td>0.525424</td>\n      <td>28</td>\n      <td>59</td>\n      <td>0.474576</td>\n      <td>0.050847</td>\n      <td>3</td>\n    </tr>\n    <tr>\n      <th>1</th>\n      <td>victim-10.0.0.24-RESOURCEHIJACKINGwapwsp.dot</td>\n      <td>24</td>\n      <td>40</td>\n      <td>0.600000</td>\n      <td>22</td>\n      <td>40</td>\n      <td>0.550000</td>\n      <td>0.050000</td>\n      <td>2</td>\n    </tr>\n    <tr>\n      <th>2</th>\n      <td>victim-10.0.0.24-DATADELIVERYhttp.dot</td>\n      <td>18</td>\n      <td>30</td>\n      <td>0.600000</td>\n      <td>17</td>\n      <td>30</td>\n      <td>0.566667</td>\n      <td>0.033333</td>\n      <td>1</td>\n    </tr>\n    <tr>\n      <th>3</th>\n      <td>victim-10.0.0.24-DATAMANIPULATIONhttp.dot</td>\n      <td>28</td>\n      <td>40</td>\n      <td>0.700000</td>\n      <td>27</td>\n      <td>40</td>\n      <td>0.675000</td>\n      <td>0.025000</td>\n      <td>1</td>\n    </tr>\n    <tr>\n      <th>4</th>\n      <td>victim-10.0.1.46-RESOURCEHIJACKINGuscli.dot</td>\n      <td>34</td>\n      <td>53</td>\n      <td>0.641509</td>\n      <td>33</td>\n      <td>53</td>\n      <td>0.622642</td>\n      <td>0.018868</td>\n      <td>1</td>\n    </tr>\n  </tbody>\n</table>\n</div>"
     },
     "execution_count": 15,
     "metadata": {},
     "output_type": "execute_result"
    }
   ],
   "source": [
    "complexity_values.sort(key= lambda a: a[\"size_difference\"], reverse=True)\n",
    "size_minus = pd.DataFrame(complexity_values)\n",
    "size_minus5 = size_minus.head(5)\n",
    "size_minus5"
   ],
   "metadata": {
    "collapsed": false
   }
  },
  {
   "cell_type": "code",
   "execution_count": 16,
   "outputs": [
    {
     "data": {
      "text/plain": "                                        name  nodes_base  edges_base  \\\n0      victim-10.0.0.11-DATADELIVERYhttp.dot          22          69   \n1  victim-10.0.0.11-DATAEXFILTRATIONhttp.dot          22          42   \n\n   simplicity_base  nodes_sinks  edges_sinks  simplicity_sinks  \\\n0         0.318841           22           69          0.318841   \n1         0.523810           22           42          0.523810   \n\n   simplicity_difference  size_difference  \n0                    0.0                0  \n1                    0.0                0  ",
      "text/html": "<div>\n<style scoped>\n    .dataframe tbody tr th:only-of-type {\n        vertical-align: middle;\n    }\n\n    .dataframe tbody tr th {\n        vertical-align: top;\n    }\n\n    .dataframe thead th {\n        text-align: right;\n    }\n</style>\n<table border=\"1\" class=\"dataframe\">\n  <thead>\n    <tr style=\"text-align: right;\">\n      <th></th>\n      <th>name</th>\n      <th>nodes_base</th>\n      <th>edges_base</th>\n      <th>simplicity_base</th>\n      <th>nodes_sinks</th>\n      <th>edges_sinks</th>\n      <th>simplicity_sinks</th>\n      <th>simplicity_difference</th>\n      <th>size_difference</th>\n    </tr>\n  </thead>\n  <tbody>\n    <tr>\n      <th>0</th>\n      <td>victim-10.0.0.11-DATADELIVERYhttp.dot</td>\n      <td>22</td>\n      <td>69</td>\n      <td>0.318841</td>\n      <td>22</td>\n      <td>69</td>\n      <td>0.318841</td>\n      <td>0.0</td>\n      <td>0</td>\n    </tr>\n    <tr>\n      <th>1</th>\n      <td>victim-10.0.0.11-DATAEXFILTRATIONhttp.dot</td>\n      <td>22</td>\n      <td>42</td>\n      <td>0.523810</td>\n      <td>22</td>\n      <td>42</td>\n      <td>0.523810</td>\n      <td>0.0</td>\n      <td>0</td>\n    </tr>\n  </tbody>\n</table>\n</div>"
     },
     "execution_count": 16,
     "metadata": {},
     "output_type": "execute_result"
    }
   ],
   "source": [
    "complexity_values.sort(key= lambda a: a[\"size_difference\"], reverse=False)\n",
    "size_plus = pd.DataFrame(complexity_values)\n",
    "size_plus5 = size_plus.head(2)\n",
    "size_plus5"
   ],
   "metadata": {
    "collapsed": false
   }
  },
  {
   "cell_type": "markdown",
   "source": [],
   "metadata": {
    "collapsed": false
   }
  },
  {
   "cell_type": "code",
   "execution_count": 17,
   "outputs": [
    {
     "name": "stdout",
     "output_type": "stream",
     "text": [
      "75\n",
      "75\n",
      "75\n",
      "[]\n"
     ]
    }
   ],
   "source": [
    "print(len(matched_attack_graphs))\n",
    "spdfa_attack_graphs = [1 for file in os.listdir(\"C:/Users/alexd/PycharmProjects/SAGE/baseline-2018AGs\") if file.endswith('.dot')]\n",
    "sinks_attack_graphs = [1 for file in os.listdir(\"C:/Users/alexd/PycharmProjects/SAGE/mergesinks-2018AGs\") if file.endswith('.dot')]\n",
    "print(len(spdfa_attack_graphs))\n",
    "print(len(sinks_attack_graphs))\n",
    "print(unmatched_attack_graphs)"
   ],
   "metadata": {
    "collapsed": false
   }
  },
  {
   "cell_type": "code",
   "execution_count": 18,
   "outputs": [
    {
     "name": "stdout",
     "output_type": "stream",
     "text": [
      "victim-10.0.0.176-DATAMANIPULATIONhttp.dot 7 6 -1\n",
      "1\n",
      "-1\n",
      "203 202\n",
      "11.925925925925926 11.824074074074074\n",
      "34 33\n"
     ]
    }
   ],
   "source": [
    "c = 0\n",
    "dif = 0\n",
    "start1 = 0\n",
    "start2 = 0\n",
    "nodes1 = 0\n",
    "nodes2 = 0\n",
    "max1 = 0\n",
    "max2 = 0\n",
    "\n",
    "# Iterate over the matched attack graphs\n",
    "for (name, spdfa, sinks) in matched_attack_graphs:\n",
    "    # Get the list of nodes for the SPDFA and sinks attack graphs\n",
    "    spdfa_nodes_list = list(spdfa.nodes(data=True))\n",
    "    sinks_nodes_list = list(sinks.nodes(data=True))\n",
    "\n",
    "    # Initialize counters for yellow nodes in SPDFA and sinks\n",
    "    c_spdfa = 0\n",
    "    c_sinks = 0\n",
    "\n",
    "    # Count the number of yellow nodes in SPDFA graph\n",
    "    for x in spdfa_nodes_list:\n",
    "        if 'fillcolor' in x[1]:\n",
    "            if x[1][\"fillcolor\"] == 'yellow':\n",
    "                c_spdfa += 1\n",
    "\n",
    "    # Count the number of yellow nodes in sinks graph\n",
    "    for x in sinks_nodes_list:\n",
    "        if 'fillcolor' in x[1]:\n",
    "            if x[1][\"fillcolor\"] == 'yellow':\n",
    "                c_sinks += 1\n",
    "\n",
    "    # Compare the number of yellow nodes between SPDFA and sinks graphs\n",
    "    if c_spdfa != c_sinks:\n",
    "        print(name, c_spdfa, c_sinks, c_sinks - c_spdfa)\n",
    "        dif += c_sinks - c_spdfa\n",
    "        c += 1\n",
    "\n",
    "    # Accumulate yellow node counts and total nodes for statistics\n",
    "    start1 += c_spdfa\n",
    "    start2 += c_sinks\n",
    "    nodes1 += len(spdfa_nodes_list)\n",
    "    nodes2 += len(sinks_nodes_list)\n",
    "\n",
    "    # Track the maximum number of nodes in SPDFA and sinks graphs\n",
    "    if len(spdfa_nodes_list) > max1:\n",
    "        max1 = len(spdfa_nodes_list)\n",
    "    if len(sinks_nodes_list) > max2:\n",
    "        max2 = len(sinks_nodes_list)\n",
    "\n",
    "print(c)\n",
    "print(dif)\n",
    "print(start1, start2)\n",
    "print(nodes1 / 108, nodes2 / 108)\n",
    "print(max1, max2)\n"
   ],
   "metadata": {
    "collapsed": false
   }
  },
  {
   "cell_type": "code",
   "execution_count": 19,
   "outputs": [
    {
     "name": "stdout",
     "output_type": "stream",
     "text": [
      "victim-10.0.0.11-DATADELIVERYhttp.dot 3 0\n",
      "victim-10.0.0.11-DATAEXFILTRATIONhttp.dot 3 0\n",
      "victim-10.0.0.11-DATAMANIPULATIONhttp.dot 3 0\n",
      "victim-10.0.0.11-NETWORKDOShttp.dot 1 0\n",
      "victim-10.0.0.176-DATADELIVERYhttp.dot 6 0\n",
      "victim-10.0.0.176-DATAEXFILTRATIONetlservicemgr.dot 3 0\n",
      "victim-10.0.0.176-DATAEXFILTRATIONhttp.dot 2 0\n",
      "victim-10.0.0.176-DATAMANIPULATIONetlservicemgr.dot 2 0\n",
      "victim-10.0.0.176-DATAMANIPULATIONhttp.dot 6 0\n",
      "victim-10.0.0.176-RESOURCEHIJACKINGetlservicemgr.dot 3 0\n",
      "victim-10.0.0.20-DATAMANIPULATIONremotewarecl.dot 2 0\n",
      "victim-10.0.0.20-RESOURCEHIJACKINGremotewarecl.dot 4 0\n",
      "victim-10.0.0.22-DATADELIVERYhttp.dot 2 0\n",
      "victim-10.0.0.22-DATAMANIPULATIONhttp.dot 2 0\n",
      "victim-10.0.0.22-NETWORKDOShttp.dot 1 0\n",
      "victim-10.0.0.23-DATADELIVERYunknown.dot 4 0\n",
      "victim-10.0.0.23-DATAMANIPULATIONunknown.dot 2 0\n",
      "victim-10.0.0.23-RESOURCEHIJACKINGunknown.dot 4 0\n",
      "victim-10.0.0.24-DATADELIVERYcslistener.dot 4 0\n",
      "victim-10.0.0.24-DATADELIVERYhttp.dot 2 0\n",
      "victim-10.0.0.24-DATADELIVERYwapwsp.dot 6 0\n",
      "victim-10.0.0.24-DATAMANIPULATIONcslistener.dot 2 0\n",
      "victim-10.0.0.24-DATAMANIPULATIONhttp.dot 4 0\n",
      "victim-10.0.0.24-DATAMANIPULATIONwapwsp.dot 6 0\n",
      "victim-10.0.0.24-NETWORKDOShttp.dot 1 0\n",
      "victim-10.0.0.24-RESOURCEHIJACKINGcslistener.dot 4 0\n",
      "victim-10.0.0.24-RESOURCEHIJACKINGwapwsp.dot 6 0\n",
      "victim-10.0.0.244-NETWORKDOSssdp.dot 1 0\n",
      "victim-10.0.1.42-DATADELIVERYcommplexmain.dot 5 0\n",
      "victim-10.0.1.42-DATAEXFILTRATIONcommplexmain.dot 5 0\n",
      "victim-10.0.1.42-DATAMANIPULATIONcommplexmain.dot 2 0\n",
      "victim-10.0.1.42-RESOURCEHIJACKINGcommplexmain.dot 4 0\n",
      "victim-10.0.1.46-DATADELIVERYhttp.dot 1 0\n",
      "victim-10.0.1.46-DATADELIVERYuscli.dot 7 0\n",
      "victim-10.0.1.46-DATADESTRUCTIONuscli.dot 1 0\n",
      "victim-10.0.1.46-DATAEXFILTRATIONuscli.dot 3 0\n",
      "victim-10.0.1.46-DATAMANIPULATIONuscli.dot 4 0\n",
      "victim-10.0.1.46-RESOURCEHIJACKINGuscli.dot 8 0\n",
      "victim-10.0.1.5-NETWORKDOShttp.dot 1 0\n",
      "39\n",
      "75\n",
      "130\n"
     ]
    }
   ],
   "source": [
    "c = 0\n",
    "kk = 0\n",
    "sum_sinks = 0\n",
    "\n",
    "# Iterate over the matched attack graphs\n",
    "for (name, spdfa, sinks) in matched_attack_graphs:\n",
    "    # Get the list of nodes for the SPDFA and sinks attack graphs\n",
    "    spdfa_nodes_list = list(spdfa.nodes(data=True))\n",
    "    sinks_nodes_list = list(sinks.nodes(data=True))\n",
    "\n",
    "    # Initialize counters for dotted nodes in SPDFA and sinks\n",
    "    c_spdfa = 0\n",
    "    c_sinks = 0\n",
    "\n",
    "    # Count the number of dotted nodes in SPDFA graph\n",
    "    for x in spdfa_nodes_list:\n",
    "        if 'style' in x[1]:\n",
    "            if x[1][\"style\"] == '\"dotted\"':\n",
    "                c_spdfa += 1\n",
    "\n",
    "    # Count the number of dotted nodes in sinks graph\n",
    "    for x in sinks_nodes_list:\n",
    "        if 'style' in x[1]:\n",
    "            if x[1][\"style\"] == '\"dotted\"':\n",
    "                c_sinks += 1\n",
    "\n",
    "    # Compare the number of dotted nodes between SPDFA and sinks graphs\n",
    "    if c_spdfa != c_sinks:\n",
    "        print(name, c_spdfa, c_sinks)\n",
    "        c += 1\n",
    "        sum_sinks += c_spdfa\n",
    "\n",
    "    kk += 1\n",
    "\n",
    "print(c)\n",
    "print(kk)\n",
    "print(sum_sinks)\n"
   ],
   "metadata": {
    "collapsed": false
   }
  },
  {
   "cell_type": "markdown",
   "source": [],
   "metadata": {
    "collapsed": false
   }
  },
  {
   "cell_type": "code",
   "execution_count": 20,
   "outputs": [
    {
     "name": "stdout",
     "output_type": "stream",
     "text": [
      "5\n"
     ]
    }
   ],
   "source": [
    "for (name, spdfa, sinks) in matched_attack_graphs:\n",
    "    spdfa_nodes_list = list(spdfa.nodes(data = True))\n",
    "    sinks_nodes_list = list(sinks.nodes(data = True))\n",
    "\n",
    "    source_spdfa = spdfa_nodes_list[0]\n",
    "    source_sinks = sinks_nodes_list[0]\n",
    "\n",
    "    spdfa_final_objectives = list(spdfa.predecessors(source_spdfa[0]))\n",
    "    sinks_final_objectives = list(sinks.predecessors(source_sinks[0]))\n",
    "    print(spdfa.in_degree(spdfa_final_objectives[0]))\n",
    "    break"
   ],
   "metadata": {
    "collapsed": false
   }
  },
  {
   "cell_type": "code",
   "execution_count": 21,
   "outputs": [
    {
     "name": "stdout",
     "output_type": "stream",
     "text": [
      "0\n",
      "0\n",
      "174 174\n"
     ]
    }
   ],
   "source": [
    "c = 0\n",
    "dif = 0\n",
    "obj1 = 0\n",
    "obj2 = 0\n",
    "\n",
    "# Iterate over the matched attack graphs\n",
    "for (name, spdfa, sinks) in matched_attack_graphs:\n",
    "    # Get the list of nodes for the SPDFA and sinks attack graphs\n",
    "    spdfa_nodes_list = list(spdfa.nodes(data=True))\n",
    "    sinks_nodes_list = list(sinks.nodes(data=True))\n",
    "\n",
    "    # Initialize counters for salmon-colored nodes in SPDFA and sinks\n",
    "    c_spdfa = 0\n",
    "    c_sinks = 0\n",
    "\n",
    "    # Count the number of salmon-colored nodes in SPDFA graph\n",
    "    for x in spdfa_nodes_list:\n",
    "        if 'fillcolor' in x[1]:\n",
    "            if x[1][\"fillcolor\"] == 'salmon':\n",
    "                c_spdfa += 1\n",
    "\n",
    "    # Count the number of salmon-colored nodes in sinks graph\n",
    "    for x in sinks_nodes_list:\n",
    "        if 'fillcolor' in x[1]:\n",
    "            if x[1][\"fillcolor\"] == 'salmon':\n",
    "                c_sinks += 1\n",
    "\n",
    "    # Compare the number of salmon-colored nodes between SPDFA and sinks graphs\n",
    "    if c_spdfa != c_sinks:\n",
    "        print(name, c_spdfa, c_sinks, c_sinks - c_spdfa)\n",
    "        dif += c_sinks - c_spdfa\n",
    "        c += 1\n",
    "\n",
    "    # Accumulate salmon-colored node counts for statistics\n",
    "    obj1 += c_spdfa\n",
    "    obj2 += c_sinks\n",
    "\n",
    "print(c)\n",
    "print(dif)\n",
    "print(obj1, obj2)\n"
   ],
   "metadata": {
    "collapsed": false
   }
  },
  {
   "cell_type": "code",
   "execution_count": 22,
   "outputs": [
    {
     "name": "stdout",
     "output_type": "stream",
     "text": [
      "0.008540372670807428\n",
      "0.0\n"
     ]
    }
   ],
   "source": [
    "sum_nodes_base = 0\n",
    "sum_nodes_sinks = 0\n",
    "sum_edges_base = 0\n",
    "sum_edges_sinks = 0\n",
    "for x in complexity_values:\n",
    "    sum_nodes_base += x[\"nodes_base\"]\n",
    "    sum_nodes_sinks += x[\"nodes_sinks\"]\n",
    "    sum_edges_base += x[\"edges_base\"]\n",
    "    sum_edges_sinks += x[\"edges_sinks\"]\n",
    "# Percent dif between the 2 implementations\n",
    "print(1 - (sum_nodes_sinks / (sum_nodes_base * 1.0)))\n",
    "print(1 - (sum_edges_sinks / (sum_edges_base * 1.0)))"
   ],
   "metadata": {
    "collapsed": false
   }
  },
  {
   "cell_type": "code",
   "execution_count": 23,
   "outputs": [
    {
     "name": "stdout",
     "output_type": "stream",
     "text": [
      "0.6689696450796919\n",
      "0.6659832884691347\n"
     ]
    }
   ],
   "source": [
    "sum_simplicity_base = 0\n",
    "sum_simplicity_sinks = 0\n",
    "for x in complexity_values:\n",
    "    sum_simplicity_base += x[\"simplicity_base\"]\n",
    "    sum_simplicity_sinks += x[\"simplicity_sinks\"]\n",
    "print(sum_simplicity_base / (len(complexity_values) * 1.0))\n",
    "print(sum_simplicity_sinks / (len(complexity_values) * 1.0))"
   ],
   "metadata": {
    "collapsed": false
   }
  },
  {
   "cell_type": "code",
   "execution_count": 24,
   "outputs": [
    {
     "name": "stdout",
     "output_type": "stream",
     "text": [
      "67\n"
     ]
    }
   ],
   "source": [
    "print(len([x for x in complexity_values if x[\"simplicity_difference\"] == 0]))"
   ],
   "metadata": {
    "collapsed": false
   }
  },
  {
   "cell_type": "code",
   "execution_count": 25,
   "outputs": [
    {
     "name": "stdout",
     "output_type": "stream",
     "text": [
      "67\n"
     ]
    }
   ],
   "source": [
    "print(len([x for x in complexity_values if x[\"size_difference\"] == 0]))"
   ],
   "metadata": {
    "collapsed": false
   }
  },
  {
   "cell_type": "code",
   "execution_count": 26,
   "outputs": [
    {
     "name": "stdout",
     "output_type": "stream",
     "text": [
      "0.08187134502923976\n",
      "0.15384615384615385\n"
     ]
    }
   ],
   "source": [
    "dot_file_path_spdfa = \"C:/Users/alexd/PycharmProjects/SAGE/baseline-2017AGs/baseline-2017.txt-attack-graph-for-victim-10.0.0.22-DATAEXFILTRATIONunknown.dot\"\n",
    "G_spdfa = nx.nx_pydot.read_dot(dot_file_path_spdfa)  # Create NetworkX graph from the DOT file\n",
    "\n",
    "print(nx.density(G_spdfa))\n",
    "\n",
    "dot_file_path_sinks = \"C:/Users/alexd/PycharmProjects/SAGE/mergesinks-2017AGs/mergesinks-2017.txt-attack-graph-for-victim-10.0.0.22-DATAEXFILTRATIONunknown.dot\"\n",
    "G_sinks = nx.nx_pydot.read_dot(dot_file_path_sinks)  # Create NetworkX graph from the DOT file\n",
    "G_sinks.remove_node(list(G_sinks.nodes())[-1])\n",
    "print(nx.density(G_sinks))"
   ],
   "metadata": {
    "collapsed": false
   }
  },
  {
   "cell_type": "code",
   "execution_count": 27,
   "outputs": [
    {
     "name": "stdout",
     "output_type": "stream",
     "text": [
      "dict_keys(['VULNERABILTY DISCOVERY\\nmysql', 'INFO DISCOVERY\\nxdmcp', 'SERVICE DISCOVERY\\nunknown'])\n",
      "dict_keys(['VULNERABILTY DISCOVERY\\nmysql', 'BRUTE FORCE CREDENTIALS\\nunknown | ID: 98', 'ACCOUNT MANIPULATION\\nsnmp | ID: 117'])\n"
     ]
    }
   ],
   "source": [
    "# Calculate degree centrality for Graph1 (G_spdfa) and Graph2 (G_sinks)\n",
    "degree_centrality_G1 = nx.degree_centrality(G_spdfa)  # Degree centrality for Graph1\n",
    "degree_centrality_G2 = nx.degree_centrality(G_sinks)  # Degree centrality for Graph2\n",
    "\n",
    "# Get the keys and values of the degree centrality dictionaries for Graph1\n",
    "keys = list(degree_centrality_G1.keys())\n",
    "values = list(degree_centrality_G1.values())\n",
    "\n",
    "# Sort the values in descending order and get the indices of the top 3 values\n",
    "sorted_value_index = np.argsort(values)[::-1][:3]\n",
    "\n",
    "# Create a sorted dictionary with the top 3 degree centrality nodes and their values for Graph1\n",
    "sorted_dict = {keys[i]: values[i] for i in sorted_value_index}\n",
    "\n",
    "# Get the keys (top 3 degree centrality nodes) for Graph1\n",
    "top3_G1 = sorted_dict.keys()\n",
    "\n",
    "# Get the keys and values of the degree centrality dictionaries for Graph2\n",
    "keys2 = list(degree_centrality_G2.keys())\n",
    "values2 = list(degree_centrality_G2.values())\n",
    "\n",
    "# Sort the values in descending order and get the indices of the top 3 values\n",
    "sorted_value_index2 = np.argsort(values2)[::-1][:3]\n",
    "\n",
    "# Create a sorted dictionary with the top 3 degree centrality nodes and their values for Graph2\n",
    "sorted_dict2 = {keys2[i]: values2[i] for i in sorted_value_index2}\n",
    "\n",
    "# Get the keys (top 3 degree centrality nodes) for Graph2\n",
    "top3_G2 = sorted_dict2.keys()\n",
    "\n",
    "# Print the top 3 degree centrality nodes for Graph1 and Graph2\n",
    "print(top3_G1)\n",
    "print(top3_G2)\n"
   ],
   "metadata": {
    "collapsed": false
   }
  },
  {
   "cell_type": "code",
   "execution_count": 28,
   "outputs": [
    {
     "name": "stdout",
     "output_type": "stream",
     "text": [
      "Number of communities in Graph1: 4\n",
      "Number of communities in Graph2: 4\n",
      "Modularity of communities in Graph1: 0.49489795918367346\n",
      "Modularity of communities in Graph2: 0.421875\n"
     ]
    }
   ],
   "source": [
    "from networkx.algorithms import community\n",
    "\n",
    "# Community detection on Graph1\n",
    "communities_G1 = community.greedy_modularity_communities(G_spdfa)\n",
    "\n",
    "# Community detection on Graph2\n",
    "communities_G2 = community.greedy_modularity_communities(G_sinks)\n",
    "\n",
    "# Number of communities in Graph1\n",
    "num_communities_G1 = len(communities_G1)\n",
    "\n",
    "# Number of communities in Graph2\n",
    "num_communities_G2 = len(communities_G2)\n",
    "\n",
    "print(f\"Number of communities in Graph1: {num_communities_G1}\")\n",
    "print(f\"Number of communities in Graph2: {num_communities_G2}\")\n",
    "\n",
    "# Modularity of communities in Graph1\n",
    "modularity_G1 = community.modularity(G_spdfa, communities_G1)\n",
    "\n",
    "# Modularity of communities in Graph2\n",
    "modularity_G2 = community.modularity(G_sinks, communities_G2)\n",
    "\n",
    "print(f\"Modularity of communities in Graph1: {modularity_G1}\")\n",
    "print(f\"Modularity of communities in Graph2: {modularity_G2}\")\n"
   ],
   "metadata": {
    "collapsed": false
   }
  },
  {
   "cell_type": "code",
   "execution_count": 29,
   "outputs": [
    {
     "name": "stdout",
     "output_type": "stream",
     "text": [
      "Average clustering coefficients in Graph1 communities: [0.0, 0.3333333333333333, 0.0, 0.0]\n",
      "Average clustering coefficients in Graph2 communities: [0.0, 0.5833333333333333, 0.0, 0.0]\n"
     ]
    }
   ],
   "source": [
    "from networkx.algorithms import clustering\n",
    "\n",
    "# Average clustering coefficient per community in Graph1\n",
    "clustering_coefficients_G1 = []\n",
    "for community_nodes in communities_G1:\n",
    "    subgraph = nx.Graph(G_spdfa).subgraph(community_nodes)\n",
    "    clustering_coefficient = nx.average_clustering(subgraph)\n",
    "    clustering_coefficients_G1.append(clustering_coefficient)\n",
    "\n",
    "# Average clustering coefficient per community in Graph2\n",
    "clustering_coefficients_G2 = []\n",
    "for community_nodes in communities_G2:\n",
    "    subgraph = nx.Graph(G_sinks).subgraph(community_nodes)\n",
    "    clustering_coefficient = nx.average_clustering(subgraph)\n",
    "    clustering_coefficients_G2.append(clustering_coefficient)\n",
    "\n",
    "print(f\"Average clustering coefficients in Graph1 communities: {clustering_coefficients_G1}\")\n",
    "print(f\"Average clustering coefficients in Graph2 communities: {clustering_coefficients_G2}\")\n"
   ],
   "metadata": {
    "collapsed": false
   }
  },
  {
   "cell_type": "code",
   "execution_count": 30,
   "outputs": [
    {
     "data": {
      "text/plain": "<Figure size 640x480 with 1 Axes>",
      "image/png": "[encoded data removed]"
     },
     "metadata": {},
     "output_type": "display_data"
    }
   ],
   "source": [
    "# Create a dictionary to map nodes to their respective community IDs\n",
    "community_mapping = {}\n",
    "for i, comm in enumerate(communities_G1):\n",
    "    for node in comm:\n",
    "        community_mapping[node] = i\n",
    "\n",
    "# Create a list of colors for nodes based on their community IDs\n",
    "colors = [community_mapping[node] for node in G_spdfa.nodes()]\n",
    "\n",
    "# Draw the graph with nodes colored by their community membership\n",
    "pos = nx.spring_layout(G_spdfa)  # Layout algorithm for node positioning\n",
    "nx.draw(G_spdfa, pos, node_color=colors, with_labels=False)\n",
    "\n",
    "# Show the plot\n",
    "plt.show()"
   ],
   "metadata": {
    "collapsed": false
   }
  },
  {
   "cell_type": "code",
   "execution_count": 31,
   "outputs": [
    {
     "data": {
      "text/plain": "<Figure size 640x480 with 1 Axes>",
      "image/png": "[encoded data removed]"
     },
     "metadata": {},
     "output_type": "display_data"
    }
   ],
   "source": [
    "# Create a dictionary to map nodes to their respective community IDs\n",
    "community_mapping = {}\n",
    "for i, comm in enumerate(communities_G2):\n",
    "    for node in comm:\n",
    "        community_mapping[node] = i\n",
    "\n",
    "# Create a list of colors for nodes based on their community IDs\n",
    "colors = [community_mapping[node] for node in G_sinks.nodes()]\n",
    "\n",
    "# Draw the graph with nodes colored by their community membership\n",
    "pos = nx.spring_layout(G_sinks)  # Layout algorithm for node positioning\n",
    "nx.draw(G_sinks, pos, node_color=colors, with_labels=False)\n",
    "\n",
    "# Show the plot\n",
    "plt.show()"
   ],
   "metadata": {
    "collapsed": false
   }
  },
  {
   "cell_type": "code",
   "execution_count": 31,
   "outputs": [],
   "source": [],
   "metadata": {
    "collapsed": false
   }
  },
  {
   "cell_type": "code",
   "execution_count": 31,
   "outputs": [],
   "source": [],
   "metadata": {
    "collapsed": false
   }
  }
 ],
 "metadata": {
  "kernelspec": {
   "display_name": "Python 3",
   "language": "python",
   "name": "python3"
  },
  "language_info": {
   "codemirror_mode": {
    "name": "ipython",
    "version": 2
   },
   "file_extension": ".py",
   "mimetype": "text/x-python",
   "name": "python",
   "nbconvert_exporter": "python",
   "pygments_lexer": "ipython2",
   "version": "2.7.6"
  }
 },
 "nbformat": 4,
 "nbformat_minor": 0
}
